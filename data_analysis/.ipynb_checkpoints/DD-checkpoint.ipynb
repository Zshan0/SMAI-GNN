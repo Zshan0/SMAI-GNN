{
 "cells": [
  {
   "cell_type": "code",
   "execution_count": 4,
   "id": "2cb5090a",
   "metadata": {},
   "outputs": [],
   "source": [
    "import os\n",
    "import json\n",
    "data = []\n",
    "for file in os.listdir(\"GNN_MAX-PROTEINS\"):\n",
    "  data.append(json.load(open(\"GNN_MAX-PROTEINS/\" + file)))"
   ]
  },
  {
   "cell_type": "code",
   "execution_count": 9,
   "id": "b3689aa9",
   "metadata": {},
   "outputs": [
    {
     "name": "stdout",
     "output_type": "stream",
     "text": [
      "     epoch        loss     train      test\n",
      "0        1  733.574280  0.618382  0.598214\n",
      "1        2   18.048639  0.520480  0.571429\n",
      "2        3   10.864894  0.445554  0.455357\n",
      "3        4    5.678874  0.607393  0.642857\n",
      "4        5    3.753120  0.609391  0.580357\n",
      "..     ...         ...       ...       ...\n",
      "195    196    0.525713  0.739261  0.750000\n",
      "196    197    0.544659  0.755245  0.750000\n",
      "197    198    0.517727  0.735265  0.714286\n",
      "198    199    0.571733  0.731269  0.714286\n",
      "199    200    0.547442  0.750250  0.741071\n",
      "\n",
      "[200 rows x 4 columns]\n"
     ]
    }
   ],
   "source": [
    "import pandas as pd\n",
    "dfs = []\n",
    "for fold_data in data:\n",
    "  dfs.append(pd.DataFrame(fold_data, columns=[\"epoch\", \"loss\", \"train\", \"test\"]))\n",
    "print(dfs[0])"
   ]
  },
  {
   "cell_type": "code",
   "execution_count": 17,
   "id": "067836e4",
   "metadata": {},
   "outputs": [
    {
     "name": "stdout",
     "output_type": "stream",
     "text": [
      "[0.7857142857142857, 0.8378378378378378, 0.8378378378378378, 0.7657657657657657, 0.7747747747747747, 0.7946428571428571, 0.7477477477477478, 0.7657657657657657, 0.7567567567567568, 0.7946428571428571]\n"
     ]
    }
   ],
   "source": [
    "bests = []\n",
    "for df in dfs:\n",
    "  bests.append(df['test'].max())\n",
    "print(bests)"
   ]
  },
  {
   "cell_type": "code",
   "execution_count": 19,
   "id": "66ce7377",
   "metadata": {},
   "outputs": [
    {
     "name": "stdout",
     "output_type": "stream",
     "text": [
      "78.61486486486487 2.96426006285471\n"
     ]
    }
   ],
   "source": [
    "import numpy as np\n",
    "print(np.average(np.array(bests)) * 100, np.std(np.array(bests) * 100))"
   ]
  },
  {
   "cell_type": "code",
   "execution_count": 30,
   "id": "1ac15f8f",
   "metadata": {},
   "outputs": [
    {
     "name": "stdout",
     "output_type": "stream",
     "text": [
      "0\n",
      "1\n",
      "4\n",
      "5\n",
      "9\n",
      "10\n",
      "11\n",
      "27\n",
      "32\n",
      "38\n",
      "93\n",
      "106\n",
      "111\n",
      "[0.7767857142857143, 0.8198198198198198, 0.7567567567567568, 0.6846846846846847, 0.7297297297297297, 0.7857142857142857, 0.7027027027027027, 0.7117117117117117, 0.7387387387387387, 0.7857142857142857]\n",
      "0.749235842985843\n",
      "74.9235842985843 4.08533158611607\n"
     ]
    }
   ],
   "source": [
    "bests = []\n",
    "best_avg = -123\n",
    "for epoch in range(200):\n",
    "  best_local = [df[\"test\"].to_list()[epoch] for df in dfs]\n",
    "  avg = np.average(best_local)\n",
    "  \n",
    "  if avg > best_avg:\n",
    "    print(epoch)\n",
    "    bests = best_local\n",
    "    best_avg = avg\n",
    "\n",
    "print(bests)\n",
    "print(best_avg)\n",
    "print(np.average(np.array(bests)) * 100, np.std(np.array(bests) * 100))"
   ]
  },
  {
   "cell_type": "code",
   "execution_count": null,
   "id": "bd21f24a",
   "metadata": {},
   "outputs": [],
   "source": []
  }
 ],
 "metadata": {
  "kernelspec": {
   "display_name": "Python 3",
   "language": "python",
   "name": "python3"
  },
  "language_info": {
   "codemirror_mode": {
    "name": "ipython",
    "version": 3
   },
   "file_extension": ".py",
   "mimetype": "text/x-python",
   "name": "python",
   "nbconvert_exporter": "python",
   "pygments_lexer": "ipython3",
   "version": "3.9.6"
  }
 },
 "nbformat": 4,
 "nbformat_minor": 5
}
