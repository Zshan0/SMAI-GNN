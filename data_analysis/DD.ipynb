{
 "cells": [
  {
   "cell_type": "code",
   "execution_count": 1,
   "id": "2cb5090a",
   "metadata": {},
   "outputs": [],
   "source": [
    "import os\n",
    "import json\n",
    "import pandas as pd\n",
    "import numpy as np"
   ]
  },
  {
   "cell_type": "code",
   "execution_count": 11,
   "id": "bd21f24a",
   "metadata": {},
   "outputs": [],
   "source": [
    "def get_best(dir_name):\n",
    "  data = []\n",
    "  for file in os.listdir(dir_name):\n",
    "    data.append(json.load(open(dir_name + file)))\n",
    "  dfs = []\n",
    "  for fold_data in data:\n",
    "    dfs.append(pd.DataFrame(fold_data, columns=[\"epoch\", \"loss\", \"train\", \"test\"]))\n",
    "  bests = []\n",
    "  for df in dfs:\n",
    "    bests.append(df['test'].max())\n",
    "  print(dir_name + \"-\"*20)\n",
    "  print(np.average(np.array(bests)) * 100, np.std(np.array(bests) * 100))\n",
    "  bests = []\n",
    "  best_avg = -123\n",
    "  for epoch in range(200):\n",
    "    best_local = [df[\"test\"].to_list()[epoch] for df in dfs]\n",
    "    avg = np.average(best_local)\n",
    "\n",
    "    if avg > best_avg:\n",
    "      bests = best_local\n",
    "      best_avg = avg\n",
    "  print(np.average(np.array(bests)) * 100, np.std(np.array(bests) * 100))\n",
    "  "
   ]
  },
  {
   "cell_type": "code",
   "execution_count": 16,
   "id": "e3860ed4",
   "metadata": {},
   "outputs": [
    {
     "name": "stdout",
     "output_type": "stream",
     "text": [
      "GNN-PTC_MR\n",
      "GNN_MAX-MUTAG\n",
      "GIN-PTC_MR\n",
      "GNN_MAX-PROTEINS\n",
      "GIN-MUTAG\n"
     ]
    }
   ],
   "source": [
    "for dir_name in os.listdir(\"extracted\"):\n",
    "  print(dir_name)\n",
    "  get_best(\"./extracted/\" +dir_name + \"\")"
   ]
  },
  {
   "cell_type": "code",
   "execution_count": null,
   "id": "57583b9b",
   "metadata": {},
   "outputs": [],
   "source": []
  }
 ],
 "metadata": {
  "kernelspec": {
   "display_name": "Python 3",
   "language": "python",
   "name": "python3"
  },
  "language_info": {
   "codemirror_mode": {
    "name": "ipython",
    "version": 3
   },
   "file_extension": ".py",
   "mimetype": "text/x-python",
   "name": "python",
   "nbconvert_exporter": "python",
   "pygments_lexer": "ipython3",
   "version": "3.9.9"
  }
 },
 "nbformat": 4,
 "nbformat_minor": 5
}